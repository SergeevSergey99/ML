{
 "cells": [
  {
   "cell_type": "code",
   "execution_count": 53,
   "metadata": {},
   "outputs": [
    {
     "name": "stdout",
     "output_type": "stream",
     "text": [
      "['labeled.csv']\n"
     ]
    }
   ],
   "source": [
    "import os\n",
    "\n",
    "import numpy as np\n",
    "\n",
    "# For DataFrame object\n",
    "import pandas as pd\n",
    "\n",
    "# Neural Network\n",
    "from keras.models import Sequential\n",
    "from keras.layers import Dense, Dropout\n",
    "from keras.optimizers import RMSprop\n",
    "\n",
    "# Text Vectorizing\n",
    "from keras.preprocessing.text import Tokenizer\n",
    "\n",
    "# Train-test-split\n",
    "from sklearn.model_selection import train_test_split\n",
    "\n",
    "# History visualization\n",
    "%matplotlib inline\n",
    "import matplotlib.pyplot as plt\n",
    "\n",
    "# Normalize\n",
    "from sklearn.preprocessing import normalize\n",
    "        \n",
    "print(os.listdir(\"./input\"))\n"
   ]
  },
  {
   "cell_type": "code",
   "execution_count": 38,
   "metadata": {},
   "outputs": [
    {
     "name": "stdout",
     "output_type": "stream",
     "text": [
      "['labeled.csv']\n"
     ]
    }
   ],
   "source": [
    "print(os.listdir(\"./input\"))"
   ]
  },
  {
   "cell_type": "code",
   "execution_count": 39,
   "metadata": {},
   "outputs": [
    {
     "data": {
      "text/html": [
       "<div>\n",
       "<style scoped>\n",
       "    .dataframe tbody tr th:only-of-type {\n",
       "        vertical-align: middle;\n",
       "    }\n",
       "\n",
       "    .dataframe tbody tr th {\n",
       "        vertical-align: top;\n",
       "    }\n",
       "\n",
       "    .dataframe thead th {\n",
       "        text-align: right;\n",
       "    }\n",
       "</style>\n",
       "<table border=\"1\" class=\"dataframe\">\n",
       "  <thead>\n",
       "    <tr style=\"text-align: right;\">\n",
       "      <th></th>\n",
       "      <th>comment</th>\n",
       "      <th>toxic</th>\n",
       "    </tr>\n",
       "  </thead>\n",
       "  <tbody>\n",
       "    <tr>\n",
       "      <th>0</th>\n",
       "      <td>Верблюдов-то за что? Дебилы, бл...\\n</td>\n",
       "      <td>1.0</td>\n",
       "    </tr>\n",
       "    <tr>\n",
       "      <th>1</th>\n",
       "      <td>Хохлы, это отдушина затюканого россиянина, мол...</td>\n",
       "      <td>1.0</td>\n",
       "    </tr>\n",
       "    <tr>\n",
       "      <th>2</th>\n",
       "      <td>Собаке - собачья смерть\\n</td>\n",
       "      <td>1.0</td>\n",
       "    </tr>\n",
       "    <tr>\n",
       "      <th>3</th>\n",
       "      <td>Страницу обнови, дебил. Это тоже не оскорблени...</td>\n",
       "      <td>1.0</td>\n",
       "    </tr>\n",
       "    <tr>\n",
       "      <th>4</th>\n",
       "      <td>тебя не убедил 6-страничный пдф в том, что Скр...</td>\n",
       "      <td>1.0</td>\n",
       "    </tr>\n",
       "  </tbody>\n",
       "</table>\n",
       "</div>"
      ],
      "text/plain": [
       "                                             comment  toxic\n",
       "0               Верблюдов-то за что? Дебилы, бл...\\n    1.0\n",
       "1  Хохлы, это отдушина затюканого россиянина, мол...    1.0\n",
       "2                          Собаке - собачья смерть\\n    1.0\n",
       "3  Страницу обнови, дебил. Это тоже не оскорблени...    1.0\n",
       "4  тебя не убедил 6-страничный пдф в том, что Скр...    1.0"
      ]
     },
     "execution_count": 39,
     "metadata": {},
     "output_type": "execute_result"
    }
   ],
   "source": [
    "path = './input/labeled.csv'\n",
    "df = pd.read_csv(path)\n",
    "df.head()"
   ]
  },
  {
   "cell_type": "code",
   "execution_count": 40,
   "metadata": {},
   "outputs": [],
   "source": [
    "def delete_new_line_symbols(text):\n",
    "    text = text.replace('\\n', ' ')\n",
    "    return text"
   ]
  },
  {
   "cell_type": "code",
   "execution_count": 41,
   "metadata": {},
   "outputs": [
    {
     "data": {
      "text/html": [
       "<div>\n",
       "<style scoped>\n",
       "    .dataframe tbody tr th:only-of-type {\n",
       "        vertical-align: middle;\n",
       "    }\n",
       "\n",
       "    .dataframe tbody tr th {\n",
       "        vertical-align: top;\n",
       "    }\n",
       "\n",
       "    .dataframe thead th {\n",
       "        text-align: right;\n",
       "    }\n",
       "</style>\n",
       "<table border=\"1\" class=\"dataframe\">\n",
       "  <thead>\n",
       "    <tr style=\"text-align: right;\">\n",
       "      <th></th>\n",
       "      <th>comment</th>\n",
       "      <th>toxic</th>\n",
       "    </tr>\n",
       "  </thead>\n",
       "  <tbody>\n",
       "    <tr>\n",
       "      <th>0</th>\n",
       "      <td>Верблюдов-то за что? Дебилы, бл...</td>\n",
       "      <td>1.0</td>\n",
       "    </tr>\n",
       "    <tr>\n",
       "      <th>1</th>\n",
       "      <td>Хохлы, это отдушина затюканого россиянина, мол...</td>\n",
       "      <td>1.0</td>\n",
       "    </tr>\n",
       "    <tr>\n",
       "      <th>2</th>\n",
       "      <td>Собаке - собачья смерть</td>\n",
       "      <td>1.0</td>\n",
       "    </tr>\n",
       "    <tr>\n",
       "      <th>3</th>\n",
       "      <td>Страницу обнови, дебил. Это тоже не оскорблени...</td>\n",
       "      <td>1.0</td>\n",
       "    </tr>\n",
       "    <tr>\n",
       "      <th>4</th>\n",
       "      <td>тебя не убедил 6-страничный пдф в том, что Скр...</td>\n",
       "      <td>1.0</td>\n",
       "    </tr>\n",
       "  </tbody>\n",
       "</table>\n",
       "</div>"
      ],
      "text/plain": [
       "                                             comment  toxic\n",
       "0                Верблюдов-то за что? Дебилы, бл...     1.0\n",
       "1  Хохлы, это отдушина затюканого россиянина, мол...    1.0\n",
       "2                           Собаке - собачья смерть     1.0\n",
       "3  Страницу обнови, дебил. Это тоже не оскорблени...    1.0\n",
       "4  тебя не убедил 6-страничный пдф в том, что Скр...    1.0"
      ]
     },
     "execution_count": 41,
     "metadata": {},
     "output_type": "execute_result"
    }
   ],
   "source": [
    "df['comment'] = df['comment'].apply(delete_new_line_symbols)\n",
    "df.head()"
   ]
  },
  {
   "cell_type": "code",
   "execution_count": 42,
   "metadata": {},
   "outputs": [
    {
     "data": {
      "text/plain": [
       "array([1, 1, 1, 1, 1], dtype=uint8)"
      ]
     },
     "execution_count": 42,
     "metadata": {},
     "output_type": "execute_result"
    }
   ],
   "source": [
    "target = np.array(df['toxic'].astype('uint8'))\n",
    "target[:5]\n"
   ]
  },
  {
   "cell_type": "code",
   "execution_count": 43,
   "metadata": {},
   "outputs": [],
   "source": [
    "tokenizer = Tokenizer(num_words=20000, \n",
    "                      filters='!\"#$%&()*+,-./:;<=>?@[\\\\]^_`{|}~\\t\\n', \n",
    "                      lower=True, \n",
    "                      split=' ', \n",
    "                      char_level=False)"
   ]
  },
  {
   "cell_type": "code",
   "execution_count": 44,
   "metadata": {},
   "outputs": [
    {
     "data": {
      "text/plain": [
       "(14412, 20000)"
      ]
     },
     "execution_count": 44,
     "metadata": {},
     "output_type": "execute_result"
    }
   ],
   "source": [
    "tokenizer.fit_on_texts(df['comment'])\n",
    "matrix = tokenizer.texts_to_matrix(df['comment'], mode='count')\n",
    "matrix.shape\n"
   ]
  },
  {
   "cell_type": "code",
   "execution_count": 45,
   "metadata": {},
   "outputs": [],
   "source": [
    "def get_model():\n",
    "    \n",
    "    model = Sequential()\n",
    "    \n",
    "    model.add(Dense(32, activation='relu'))\n",
    "    model.add(Dropout(0.3))\n",
    "    model.add(Dense(16, activation='relu'))\n",
    "    model.add(Dropout(0.3))\n",
    "    model.add(Dense(16, activation='relu'))\n",
    "    model.add(Dense(1, activation='sigmoid'))\n",
    "    \n",
    "    model.compile(optimizer=RMSprop(lr=0.0001), \n",
    "                  loss='binary_crossentropy',\n",
    "                  metrics=['accuracy'])\n",
    "    \n",
    "    return model"
   ]
  },
  {
   "cell_type": "code",
   "execution_count": 46,
   "metadata": {},
   "outputs": [
    {
     "data": {
      "text/plain": [
       "((11529, 20000), (11529,))"
      ]
     },
     "execution_count": 46,
     "metadata": {},
     "output_type": "execute_result"
    }
   ],
   "source": [
    "matrix = normalize(matrix)\n",
    "y = target\n",
    "\n",
    "X_train, X_test, y_train, y_test = train_test_split(matrix, y, test_size=0.2)\n",
    "\n",
    "X_train.shape, y_train.shape"
   ]
  },
  {
   "cell_type": "code",
   "execution_count": 47,
   "metadata": {
    "scrolled": true
   },
   "outputs": [
    {
     "name": "stdout",
     "output_type": "stream",
     "text": [
      "Train on 11529 samples, validate on 2883 samples\n",
      "Epoch 1/150\n",
      "11529/11529 [==============================] - 15s 1ms/step - loss: 0.6880 - acc: 0.6655 - val_loss: 0.6831 - val_acc: 0.6615\n",
      "Epoch 2/150\n",
      "11529/11529 [==============================] - 5s 450us/step - loss: 0.6792 - acc: 0.6661 - val_loss: 0.6746 - val_acc: 0.6615\n",
      "Epoch 3/150\n",
      "11529/11529 [==============================] - 3s 257us/step - loss: 0.6708 - acc: 0.6661 - val_loss: 0.6665 - val_acc: 0.6615\n",
      "Epoch 4/150\n",
      "11529/11529 [==============================] - 3s 245us/step - loss: 0.6631 - acc: 0.6661 - val_loss: 0.6582 - val_acc: 0.6615\n",
      "Epoch 5/150\n",
      "11529/11529 [==============================] - 5s 451us/step - loss: 0.6537 - acc: 0.6661 - val_loss: 0.6501 - val_acc: 0.6615\n",
      "Epoch 6/150\n",
      "11529/11529 [==============================] - 4s 312us/step - loss: 0.6461 - acc: 0.6661 - val_loss: 0.6417 - val_acc: 0.6615\n",
      "Epoch 7/150\n",
      "11529/11529 [==============================] - 3s 299us/step - loss: 0.6365 - acc: 0.6661 - val_loss: 0.6338 - val_acc: 0.6615\n",
      "Epoch 8/150\n",
      "11529/11529 [==============================] - 3s 258us/step - loss: 0.6293 - acc: 0.6661 - val_loss: 0.6263 - val_acc: 0.6615\n",
      "Epoch 9/150\n",
      "11529/11529 [==============================] - 3s 302us/step - loss: 0.6197 - acc: 0.6661 - val_loss: 0.6192 - val_acc: 0.6615\n",
      "Epoch 10/150\n",
      "11529/11529 [==============================] - 4s 325us/step - loss: 0.6144 - acc: 0.6661 - val_loss: 0.6124 - val_acc: 0.6615\n",
      "Epoch 11/150\n",
      "11529/11529 [==============================] - 3s 272us/step - loss: 0.6073 - acc: 0.6661 - val_loss: 0.6062 - val_acc: 0.6615\n",
      "Epoch 12/150\n",
      "11529/11529 [==============================] - 3s 246us/step - loss: 0.6001 - acc: 0.6661 - val_loss: 0.6002 - val_acc: 0.6615\n",
      "Epoch 13/150\n",
      "11529/11529 [==============================] - 3s 283us/step - loss: 0.5942 - acc: 0.6661 - val_loss: 0.5942 - val_acc: 0.6615\n",
      "Epoch 14/150\n",
      "11529/11529 [==============================] - 3s 268us/step - loss: 0.5857 - acc: 0.6661 - val_loss: 0.5878 - val_acc: 0.6615\n",
      "Epoch 15/150\n",
      "11529/11529 [==============================] - 3s 249us/step - loss: 0.5798 - acc: 0.6661 - val_loss: 0.5813 - val_acc: 0.6615\n",
      "Epoch 16/150\n",
      "11529/11529 [==============================] - 3s 271us/step - loss: 0.5713 - acc: 0.6661 - val_loss: 0.5745 - val_acc: 0.6615\n",
      "Epoch 17/150\n",
      "11529/11529 [==============================] - 3s 266us/step - loss: 0.5658 - acc: 0.6661 - val_loss: 0.5675 - val_acc: 0.6615\n",
      "Epoch 18/150\n",
      "11529/11529 [==============================] - 3s 258us/step - loss: 0.5572 - acc: 0.6661 - val_loss: 0.5605 - val_acc: 0.6615\n",
      "Epoch 19/150\n",
      "11529/11529 [==============================] - 3s 251us/step - loss: 0.5477 - acc: 0.6661 - val_loss: 0.5536 - val_acc: 0.6615\n",
      "Epoch 20/150\n",
      "11529/11529 [==============================] - 3s 255us/step - loss: 0.5450 - acc: 0.6661 - val_loss: 0.5469 - val_acc: 0.6615\n",
      "Epoch 21/150\n",
      "11529/11529 [==============================] - 3s 247us/step - loss: 0.5346 - acc: 0.6661 - val_loss: 0.5401 - val_acc: 0.6615\n",
      "Epoch 22/150\n",
      "11529/11529 [==============================] - 3s 280us/step - loss: 0.5280 - acc: 0.6661 - val_loss: 0.5334 - val_acc: 0.6615\n",
      "Epoch 23/150\n",
      "11529/11529 [==============================] - 3s 273us/step - loss: 0.5215 - acc: 0.6661 - val_loss: 0.5268 - val_acc: 0.6615\n",
      "Epoch 24/150\n",
      "11529/11529 [==============================] - 3s 253us/step - loss: 0.5109 - acc: 0.6661 - val_loss: 0.5198 - val_acc: 0.6615\n",
      "Epoch 25/150\n",
      "11529/11529 [==============================] - 3s 248us/step - loss: 0.5042 - acc: 0.6661 - val_loss: 0.5133 - val_acc: 0.6615\n",
      "Epoch 26/150\n",
      "11529/11529 [==============================] - 3s 260us/step - loss: 0.4984 - acc: 0.6661 - val_loss: 0.5069 - val_acc: 0.6615\n",
      "Epoch 27/150\n",
      "11529/11529 [==============================] - 3s 266us/step - loss: 0.4883 - acc: 0.6661 - val_loss: 0.5004 - val_acc: 0.6615\n",
      "Epoch 28/150\n",
      "11529/11529 [==============================] - 3s 252us/step - loss: 0.4826 - acc: 0.6661 - val_loss: 0.4938 - val_acc: 0.6615\n",
      "Epoch 29/150\n",
      "11529/11529 [==============================] - 3s 248us/step - loss: 0.4719 - acc: 0.6663 - val_loss: 0.4876 - val_acc: 0.6615\n",
      "Epoch 30/150\n",
      "11529/11529 [==============================] - 3s 251us/step - loss: 0.4635 - acc: 0.6689 - val_loss: 0.4816 - val_acc: 0.6615\n",
      "Epoch 31/150\n",
      "11529/11529 [==============================] - 3s 252us/step - loss: 0.4572 - acc: 0.6877 - val_loss: 0.4758 - val_acc: 0.7527\n",
      "Epoch 32/150\n",
      "11529/11529 [==============================] - 3s 254us/step - loss: 0.4514 - acc: 0.7131 - val_loss: 0.4700 - val_acc: 0.7707\n",
      "Epoch 33/150\n",
      "11529/11529 [==============================] - 3s 255us/step - loss: 0.4434 - acc: 0.7456 - val_loss: 0.4640 - val_acc: 0.7884\n",
      "Epoch 34/150\n",
      "11529/11529 [==============================] - 3s 259us/step - loss: 0.4349 - acc: 0.7707 - val_loss: 0.4583 - val_acc: 0.7954\n",
      "Epoch 35/150\n",
      "11529/11529 [==============================] - 3s 274us/step - loss: 0.4288 - acc: 0.7867 - val_loss: 0.4536 - val_acc: 0.7978\n",
      "Epoch 36/150\n",
      "11529/11529 [==============================] - 3s 257us/step - loss: 0.4203 - acc: 0.8040 - val_loss: 0.4488 - val_acc: 0.8026\n",
      "Epoch 37/150\n",
      "11529/11529 [==============================] - 3s 250us/step - loss: 0.4133 - acc: 0.8169 - val_loss: 0.4444 - val_acc: 0.8075\n",
      "Epoch 38/150\n",
      "11529/11529 [==============================] - 3s 273us/step - loss: 0.4065 - acc: 0.8353 - val_loss: 0.4389 - val_acc: 0.8141\n",
      "Epoch 39/150\n",
      "11529/11529 [==============================] - 3s 266us/step - loss: 0.4016 - acc: 0.8438 - val_loss: 0.4343 - val_acc: 0.8162\n",
      "Epoch 40/150\n",
      "11529/11529 [==============================] - 3s 246us/step - loss: 0.3918 - acc: 0.8549 - val_loss: 0.4308 - val_acc: 0.8176\n",
      "Epoch 41/150\n",
      "11529/11529 [==============================] - 3s 248us/step - loss: 0.3853 - acc: 0.8648 - val_loss: 0.4255 - val_acc: 0.8290\n",
      "Epoch 42/150\n",
      "11529/11529 [==============================] - 3s 251us/step - loss: 0.3788 - acc: 0.8741 - val_loss: 0.4225 - val_acc: 0.8300\n",
      "Epoch 43/150\n",
      "11529/11529 [==============================] - 3s 260us/step - loss: 0.3735 - acc: 0.8797 - val_loss: 0.4198 - val_acc: 0.8314\n",
      "Epoch 44/150\n",
      "11529/11529 [==============================] - 3s 254us/step - loss: 0.3678 - acc: 0.8891 - val_loss: 0.4164 - val_acc: 0.8339\n",
      "Epoch 45/150\n",
      "11529/11529 [==============================] - 3s 248us/step - loss: 0.3601 - acc: 0.8943 - val_loss: 0.4132 - val_acc: 0.8356\n",
      "Epoch 46/150\n",
      "11529/11529 [==============================] - 3s 251us/step - loss: 0.3540 - acc: 0.8970 - val_loss: 0.4099 - val_acc: 0.8398\n",
      "Epoch 47/150\n",
      "11529/11529 [==============================] - 3s 250us/step - loss: 0.3486 - acc: 0.9059 - val_loss: 0.4070 - val_acc: 0.8436\n",
      "Epoch 48/150\n",
      "11529/11529 [==============================] - 3s 247us/step - loss: 0.3397 - acc: 0.9094 - val_loss: 0.4058 - val_acc: 0.8439\n",
      "Epoch 49/150\n",
      "11529/11529 [==============================] - 3s 262us/step - loss: 0.3358 - acc: 0.9095 - val_loss: 0.4016 - val_acc: 0.8470\n",
      "Epoch 50/150\n",
      "11529/11529 [==============================] - 3s 248us/step - loss: 0.3282 - acc: 0.9162 - val_loss: 0.4015 - val_acc: 0.8474\n",
      "Epoch 51/150\n",
      "11529/11529 [==============================] - 3s 248us/step - loss: 0.3215 - acc: 0.9212 - val_loss: 0.3974 - val_acc: 0.8505\n",
      "Epoch 52/150\n",
      "11529/11529 [==============================] - 3s 248us/step - loss: 0.3162 - acc: 0.9230 - val_loss: 0.3948 - val_acc: 0.8536\n",
      "Epoch 53/150\n",
      "11529/11529 [==============================] - 3s 248us/step - loss: 0.3121 - acc: 0.9256 - val_loss: 0.3958 - val_acc: 0.8536\n",
      "Epoch 54/150\n",
      "11529/11529 [==============================] - 3s 278us/step - loss: 0.3069 - acc: 0.9271 - val_loss: 0.3954 - val_acc: 0.8543\n",
      "Epoch 55/150\n",
      "11529/11529 [==============================] - 3s 249us/step - loss: 0.3002 - acc: 0.9291 - val_loss: 0.3900 - val_acc: 0.8592\n",
      "Epoch 56/150\n",
      "11529/11529 [==============================] - 3s 255us/step - loss: 0.2947 - acc: 0.9330 - val_loss: 0.3898 - val_acc: 0.8602\n",
      "Epoch 57/150\n",
      "11529/11529 [==============================] - 3s 263us/step - loss: 0.2879 - acc: 0.9356 - val_loss: 0.3932 - val_acc: 0.8588\n",
      "Epoch 58/150\n",
      "11529/11529 [==============================] - 3s 251us/step - loss: 0.2850 - acc: 0.9363 - val_loss: 0.3904 - val_acc: 0.8619\n",
      "Epoch 59/150\n",
      "11529/11529 [==============================] - 3s 249us/step - loss: 0.2740 - acc: 0.9399 - val_loss: 0.3919 - val_acc: 0.8606\n",
      "Epoch 60/150\n",
      "11529/11529 [==============================] - 3s 259us/step - loss: 0.2727 - acc: 0.9405 - val_loss: 0.3909 - val_acc: 0.8619\n",
      "Epoch 61/150\n",
      "11529/11529 [==============================] - 3s 246us/step - loss: 0.2680 - acc: 0.9437 - val_loss: 0.3900 - val_acc: 0.8606\n",
      "Epoch 62/150\n",
      "11529/11529 [==============================] - 3s 258us/step - loss: 0.2607 - acc: 0.9447 - val_loss: 0.3900 - val_acc: 0.8651\n",
      "Epoch 63/150\n",
      "11529/11529 [==============================] - 3s 254us/step - loss: 0.2543 - acc: 0.9466 - val_loss: 0.3888 - val_acc: 0.8672\n",
      "Epoch 64/150\n",
      "11529/11529 [==============================] - 3s 265us/step - loss: 0.2496 - acc: 0.9473 - val_loss: 0.3922 - val_acc: 0.8654\n",
      "Epoch 65/150\n",
      "11529/11529 [==============================] - 3s 262us/step - loss: 0.2456 - acc: 0.9493 - val_loss: 0.3943 - val_acc: 0.8668\n",
      "Epoch 66/150\n",
      "11529/11529 [==============================] - 3s 247us/step - loss: 0.2405 - acc: 0.9497 - val_loss: 0.3952 - val_acc: 0.8678\n",
      "Epoch 67/150\n",
      "11529/11529 [==============================] - 3s 250us/step - loss: 0.2403 - acc: 0.9474 - val_loss: 0.3895 - val_acc: 0.8710\n",
      "Epoch 68/150\n",
      "11529/11529 [==============================] - 3s 254us/step - loss: 0.2329 - acc: 0.9525 - val_loss: 0.3957 - val_acc: 0.8696\n",
      "Epoch 69/150\n",
      "11529/11529 [==============================] - 3s 255us/step - loss: 0.2284 - acc: 0.9533 - val_loss: 0.3941 - val_acc: 0.8696\n",
      "Epoch 70/150\n",
      "11529/11529 [==============================] - 3s 259us/step - loss: 0.2237 - acc: 0.9562 - val_loss: 0.3991 - val_acc: 0.8699\n",
      "Epoch 71/150\n",
      "11529/11529 [==============================] - 3s 257us/step - loss: 0.2195 - acc: 0.9542 - val_loss: 0.3963 - val_acc: 0.8706\n",
      "Epoch 72/150\n",
      "11529/11529 [==============================] - 3s 251us/step - loss: 0.2168 - acc: 0.9545 - val_loss: 0.4013 - val_acc: 0.8710\n",
      "Epoch 73/150\n",
      "11529/11529 [==============================] - 3s 246us/step - loss: 0.2108 - acc: 0.9583 - val_loss: 0.4039 - val_acc: 0.8703\n",
      "Epoch 74/150\n",
      "11529/11529 [==============================] - 3s 249us/step - loss: 0.2060 - acc: 0.9569 - val_loss: 0.4010 - val_acc: 0.8720\n",
      "Epoch 75/150\n",
      "11529/11529 [==============================] - 3s 257us/step - loss: 0.2022 - acc: 0.9581 - val_loss: 0.4015 - val_acc: 0.8717\n",
      "Epoch 76/150\n",
      "11529/11529 [==============================] - 3s 262us/step - loss: 0.1987 - acc: 0.9597 - val_loss: 0.4096 - val_acc: 0.8720\n",
      "Epoch 77/150\n",
      "11529/11529 [==============================] - 3s 254us/step - loss: 0.1930 - acc: 0.9601 - val_loss: 0.4127 - val_acc: 0.8720\n",
      "Epoch 78/150\n",
      "11529/11529 [==============================] - 3s 262us/step - loss: 0.1889 - acc: 0.9600 - val_loss: 0.4179 - val_acc: 0.8720\n",
      "Epoch 79/150\n",
      "11529/11529 [==============================] - 3s 248us/step - loss: 0.1878 - acc: 0.9612 - val_loss: 0.4097 - val_acc: 0.8720\n",
      "Epoch 80/150\n",
      "11529/11529 [==============================] - 3s 248us/step - loss: 0.1805 - acc: 0.9617 - val_loss: 0.4180 - val_acc: 0.8720\n",
      "Epoch 81/150\n",
      "11529/11529 [==============================] - 3s 253us/step - loss: 0.1789 - acc: 0.9636 - val_loss: 0.4187 - val_acc: 0.8713\n",
      "Epoch 82/150\n",
      "11529/11529 [==============================] - 3s 259us/step - loss: 0.1746 - acc: 0.9632 - val_loss: 0.4243 - val_acc: 0.8727\n",
      "Epoch 83/150\n",
      "11529/11529 [==============================] - 3s 262us/step - loss: 0.1701 - acc: 0.9634 - val_loss: 0.4284 - val_acc: 0.8720\n",
      "Epoch 84/150\n",
      "11529/11529 [==============================] - 3s 256us/step - loss: 0.1677 - acc: 0.9636 - val_loss: 0.4291 - val_acc: 0.8713\n",
      "Epoch 85/150\n",
      "11529/11529 [==============================] - 3s 250us/step - loss: 0.1669 - acc: 0.9629 - val_loss: 0.4358 - val_acc: 0.8727\n",
      "Epoch 86/150\n",
      "11529/11529 [==============================] - 3s 282us/step - loss: 0.1617 - acc: 0.9652 - val_loss: 0.4433 - val_acc: 0.8713\n",
      "Epoch 87/150\n",
      "11529/11529 [==============================] - 3s 268us/step - loss: 0.1597 - acc: 0.9669 - val_loss: 0.4367 - val_acc: 0.8730\n",
      "Epoch 88/150\n",
      "11529/11529 [==============================] - 3s 265us/step - loss: 0.1537 - acc: 0.9670 - val_loss: 0.4436 - val_acc: 0.8727\n",
      "Epoch 89/150\n",
      "11529/11529 [==============================] - 3s 284us/step - loss: 0.1487 - acc: 0.9676 - val_loss: 0.4359 - val_acc: 0.8727\n",
      "Epoch 90/150\n",
      "11529/11529 [==============================] - 3s 264us/step - loss: 0.1493 - acc: 0.9673 - val_loss: 0.4466 - val_acc: 0.8734\n",
      "Epoch 91/150\n",
      "11529/11529 [==============================] - 3s 272us/step - loss: 0.1460 - acc: 0.9672 - val_loss: 0.4471 - val_acc: 0.8713\n",
      "Epoch 92/150\n",
      "11529/11529 [==============================] - 3s 265us/step - loss: 0.1406 - acc: 0.9683 - val_loss: 0.4539 - val_acc: 0.8724\n",
      "Epoch 93/150\n",
      "11529/11529 [==============================] - 3s 248us/step - loss: 0.1412 - acc: 0.9676 - val_loss: 0.4567 - val_acc: 0.8727\n",
      "Epoch 94/150\n",
      "11529/11529 [==============================] - 3s 264us/step - loss: 0.1367 - acc: 0.9697 - val_loss: 0.4607 - val_acc: 0.8727\n",
      "Epoch 95/150\n",
      "11529/11529 [==============================] - 3s 249us/step - loss: 0.1314 - acc: 0.9709 - val_loss: 0.4700 - val_acc: 0.8717\n",
      "Epoch 96/150\n",
      "11529/11529 [==============================] - 3s 250us/step - loss: 0.1308 - acc: 0.9704 - val_loss: 0.4682 - val_acc: 0.8727\n",
      "Epoch 97/150\n",
      "11529/11529 [==============================] - 3s 257us/step - loss: 0.1275 - acc: 0.9703 - val_loss: 0.4754 - val_acc: 0.8724\n",
      "Epoch 98/150\n",
      "11529/11529 [==============================] - 3s 272us/step - loss: 0.1265 - acc: 0.9711 - val_loss: 0.4826 - val_acc: 0.8710\n",
      "Epoch 99/150\n",
      "11529/11529 [==============================] - 3s 249us/step - loss: 0.1238 - acc: 0.9710 - val_loss: 0.4814 - val_acc: 0.8724\n",
      "Epoch 100/150\n",
      "11529/11529 [==============================] - 3s 264us/step - loss: 0.1215 - acc: 0.9721 - val_loss: 0.4988 - val_acc: 0.8699\n",
      "Epoch 101/150\n",
      "11529/11529 [==============================] - 3s 248us/step - loss: 0.1209 - acc: 0.9722 - val_loss: 0.4926 - val_acc: 0.8717\n",
      "Epoch 102/150\n",
      "11529/11529 [==============================] - 3s 254us/step - loss: 0.1186 - acc: 0.9722 - val_loss: 0.4998 - val_acc: 0.8713\n",
      "Epoch 103/150\n",
      "11529/11529 [==============================] - 3s 264us/step - loss: 0.1128 - acc: 0.9733 - val_loss: 0.5034 - val_acc: 0.8710\n",
      "Epoch 104/150\n",
      "11529/11529 [==============================] - 3s 246us/step - loss: 0.1147 - acc: 0.9741 - val_loss: 0.5040 - val_acc: 0.8713\n",
      "Epoch 105/150\n",
      "11529/11529 [==============================] - 3s 253us/step - loss: 0.1093 - acc: 0.9742 - val_loss: 0.5060 - val_acc: 0.8734\n",
      "Epoch 106/150\n",
      "11529/11529 [==============================] - 3s 253us/step - loss: 0.1060 - acc: 0.9760 - val_loss: 0.5155 - val_acc: 0.8713\n",
      "Epoch 107/150\n",
      "11529/11529 [==============================] - 3s 248us/step - loss: 0.1047 - acc: 0.9756 - val_loss: 0.5207 - val_acc: 0.8710\n",
      "Epoch 108/150\n",
      "11529/11529 [==============================] - 3s 263us/step - loss: 0.1033 - acc: 0.9745 - val_loss: 0.5128 - val_acc: 0.8734\n",
      "Epoch 109/150\n",
      "11529/11529 [==============================] - 3s 256us/step - loss: 0.1011 - acc: 0.9747 - val_loss: 0.5220 - val_acc: 0.8706\n",
      "Epoch 110/150\n",
      "11529/11529 [==============================] - 3s 248us/step - loss: 0.0997 - acc: 0.9757 - val_loss: 0.5193 - val_acc: 0.8730\n",
      "Epoch 111/150\n",
      "11529/11529 [==============================] - 3s 250us/step - loss: 0.0964 - acc: 0.9770 - val_loss: 0.5365 - val_acc: 0.8703\n",
      "Epoch 112/150\n",
      "11529/11529 [==============================] - 3s 250us/step - loss: 0.0941 - acc: 0.9768 - val_loss: 0.5317 - val_acc: 0.8717\n",
      "Epoch 113/150\n",
      "11529/11529 [==============================] - 3s 260us/step - loss: 0.0953 - acc: 0.9774 - val_loss: 0.5343 - val_acc: 0.8724\n",
      "Epoch 114/150\n",
      "11529/11529 [==============================] - 3s 279us/step - loss: 0.0920 - acc: 0.9774 - val_loss: 0.5436 - val_acc: 0.8724\n",
      "Epoch 115/150\n",
      "11529/11529 [==============================] - 3s 251us/step - loss: 0.0889 - acc: 0.9786 - val_loss: 0.5494 - val_acc: 0.8727\n",
      "Epoch 116/150\n",
      "11529/11529 [==============================] - 3s 249us/step - loss: 0.0883 - acc: 0.9791 - val_loss: 0.5417 - val_acc: 0.8710\n",
      "Epoch 117/150\n",
      "11529/11529 [==============================] - 3s 250us/step - loss: 0.0832 - acc: 0.9796 - val_loss: 0.5575 - val_acc: 0.8703\n",
      "Epoch 118/150\n",
      "11529/11529 [==============================] - 3s 247us/step - loss: 0.0827 - acc: 0.9803 - val_loss: 0.5657 - val_acc: 0.8699\n",
      "Epoch 119/150\n",
      "11529/11529 [==============================] - 3s 270us/step - loss: 0.0853 - acc: 0.9789 - val_loss: 0.5598 - val_acc: 0.8703\n",
      "Epoch 120/150\n",
      "11529/11529 [==============================] - 3s 260us/step - loss: 0.0856 - acc: 0.9790 - val_loss: 0.5709 - val_acc: 0.8706\n",
      "Epoch 121/150\n",
      "11529/11529 [==============================] - 3s 255us/step - loss: 0.0811 - acc: 0.9804 - val_loss: 0.5645 - val_acc: 0.8727\n",
      "Epoch 122/150\n",
      "11529/11529 [==============================] - 3s 246us/step - loss: 0.0781 - acc: 0.9808 - val_loss: 0.5823 - val_acc: 0.8710\n",
      "Epoch 123/150\n",
      "11529/11529 [==============================] - 3s 248us/step - loss: 0.0773 - acc: 0.9811 - val_loss: 0.5873 - val_acc: 0.8710\n",
      "Epoch 124/150\n",
      "11529/11529 [==============================] - 3s 253us/step - loss: 0.0769 - acc: 0.9813 - val_loss: 0.5851 - val_acc: 0.8710\n",
      "Epoch 125/150\n",
      "11529/11529 [==============================] - 3s 260us/step - loss: 0.0730 - acc: 0.9809 - val_loss: 0.5954 - val_acc: 0.8717\n",
      "Epoch 126/150\n",
      "11529/11529 [==============================] - 3s 249us/step - loss: 0.0726 - acc: 0.9819 - val_loss: 0.6036 - val_acc: 0.8710\n",
      "Epoch 127/150\n",
      "11529/11529 [==============================] - 3s 247us/step - loss: 0.0724 - acc: 0.9813 - val_loss: 0.6071 - val_acc: 0.8710\n",
      "Epoch 128/150\n",
      "11529/11529 [==============================] - 3s 249us/step - loss: 0.0722 - acc: 0.9817 - val_loss: 0.6049 - val_acc: 0.8724\n",
      "Epoch 129/150\n",
      "11529/11529 [==============================] - 3s 255us/step - loss: 0.0692 - acc: 0.9827 - val_loss: 0.6022 - val_acc: 0.8724\n",
      "Epoch 130/150\n",
      "11529/11529 [==============================] - 3s 271us/step - loss: 0.0699 - acc: 0.9820 - val_loss: 0.6244 - val_acc: 0.8706\n",
      "Epoch 131/150\n",
      "11529/11529 [==============================] - 3s 252us/step - loss: 0.0665 - acc: 0.9835 - val_loss: 0.6311 - val_acc: 0.8706\n",
      "Epoch 132/150\n",
      "11529/11529 [==============================] - 3s 259us/step - loss: 0.0670 - acc: 0.9832 - val_loss: 0.6233 - val_acc: 0.8713\n",
      "Epoch 133/150\n",
      "11529/11529 [==============================] - 3s 257us/step - loss: 0.0658 - acc: 0.9833 - val_loss: 0.6204 - val_acc: 0.8699\n",
      "Epoch 134/150\n",
      "11529/11529 [==============================] - 3s 257us/step - loss: 0.0621 - acc: 0.9846 - val_loss: 0.6288 - val_acc: 0.8713\n",
      "Epoch 135/150\n",
      "11529/11529 [==============================] - 3s 260us/step - loss: 0.0601 - acc: 0.9854 - val_loss: 0.6421 - val_acc: 0.8710\n",
      "Epoch 136/150\n",
      "11529/11529 [==============================] - 3s 258us/step - loss: 0.0607 - acc: 0.9845 - val_loss: 0.6455 - val_acc: 0.8692\n",
      "Epoch 137/150\n",
      "11529/11529 [==============================] - 3s 251us/step - loss: 0.0634 - acc: 0.9842 - val_loss: 0.6450 - val_acc: 0.8692\n",
      "Epoch 138/150\n",
      "11529/11529 [==============================] - 3s 250us/step - loss: 0.0608 - acc: 0.9852 - val_loss: 0.6539 - val_acc: 0.8682\n",
      "Epoch 139/150\n",
      "11529/11529 [==============================] - 3s 249us/step - loss: 0.0590 - acc: 0.9851 - val_loss: 0.6598 - val_acc: 0.8685\n",
      "Epoch 140/150\n",
      "11529/11529 [==============================] - 3s 255us/step - loss: 0.0592 - acc: 0.9852 - val_loss: 0.6634 - val_acc: 0.8692\n",
      "Epoch 141/150\n",
      "11529/11529 [==============================] - 3s 279us/step - loss: 0.0560 - acc: 0.9857 - val_loss: 0.6624 - val_acc: 0.8685\n",
      "Epoch 142/150\n",
      "11529/11529 [==============================] - 3s 255us/step - loss: 0.0545 - acc: 0.9859 - val_loss: 0.6604 - val_acc: 0.8706\n",
      "Epoch 143/150\n",
      "11529/11529 [==============================] - 3s 250us/step - loss: 0.0567 - acc: 0.9853 - val_loss: 0.6686 - val_acc: 0.8685\n",
      "Epoch 144/150\n",
      "11529/11529 [==============================] - 3s 260us/step - loss: 0.0554 - acc: 0.9860 - val_loss: 0.6784 - val_acc: 0.8675\n",
      "Epoch 145/150\n",
      "11529/11529 [==============================] - 3s 288us/step - loss: 0.0521 - acc: 0.9872 - val_loss: 0.6753 - val_acc: 0.8685\n",
      "Epoch 146/150\n",
      "11529/11529 [==============================] - 3s 302us/step - loss: 0.0538 - acc: 0.9859 - val_loss: 0.6818 - val_acc: 0.8685\n",
      "Epoch 147/150\n",
      "11529/11529 [==============================] - 3s 254us/step - loss: 0.0528 - acc: 0.9865 - val_loss: 0.6926 - val_acc: 0.8685\n",
      "Epoch 148/150\n",
      "11529/11529 [==============================] - 3s 257us/step - loss: 0.0516 - acc: 0.9859 - val_loss: 0.6887 - val_acc: 0.8689\n",
      "Epoch 149/150\n",
      "11529/11529 [==============================] - 3s 266us/step - loss: 0.0496 - acc: 0.9867 - val_loss: 0.6920 - val_acc: 0.8685\n",
      "Epoch 150/150\n",
      "11529/11529 [==============================] - 3s 259us/step - loss: 0.0511 - acc: 0.9867 - val_loss: 0.6981 - val_acc: 0.8682\n"
     ]
    }
   ],
   "source": [
    "model = get_model()\n",
    "\n",
    "history = model.fit(X_train, y_train, epochs=150, batch_size=500, validation_data=(X_test, y_test))"
   ]
  },
  {
   "cell_type": "code",
   "execution_count": 50,
   "metadata": {},
   "outputs": [
    {
     "data": {
      "image/png": "[encoded data removed]",
      "text/plain": [
       "<matplotlib.figure.Figure at 0x1fc7a3c4390>"
      ]
     },
     "metadata": {},
     "output_type": "display_data"
    }
   ],
   "source": [
    "#history = history.history\n",
    "\n",
    "fig = plt.figure(figsize=(20, 10))\n",
    "\n",
    "ax1 = fig.add_subplot(221)\n",
    "ax2 = fig.add_subplot(223)\n",
    "\n",
    "x = list(range(150))\n",
    "#ax1.set_xticklabels(x)\n",
    "ax1.plot(x, history['acc'], 'b-', label='Accuracy')\n",
    "ax1.plot(x, history['val_acc'], 'r-', label='Validation accuracy')\n",
    "\n",
    "ax1.legend(loc='lower right')\n",
    "#ax2.set_xticklabels(x)\n",
    "ax2.plot(x, history['loss'], 'b-', label='Losses')\n",
    "ax2.plot(x, history['val_loss'], 'r-', label='Validation losses')\n",
    "\n",
    "ax2.legend(loc='upper right')\n",
    "plt.show()"
   ]
  },
  {
   "cell_type": "code",
   "execution_count": 51,
   "metadata": {},
   "outputs": [
    {
     "name": "stdout",
     "output_type": "stream",
     "text": [
      "2883/2883 [==============================] - 1s 236us/step\n",
      "Test score:  0.698481393460006\n",
      "Test accuracy:  0.8681928546652792\n"
     ]
    }
   ],
   "source": [
    "score = model.evaluate(X_test, y_test)\n",
    "print(\"Test score: \", score[0])\n",
    "print(\"Test accuracy: \", score[1])"
   ]
  },
  {
   "cell_type": "code",
   "execution_count": 52,
   "metadata": {},
   "outputs": [
    {
     "name": "stdout",
     "output_type": "stream",
     "text": [
      "[[0.9015032]]\n",
      "[[0.]]\n",
      "[[0.]]\n",
      "[[0.]]\n",
      "[[0.]]\n"
     ]
    }
   ],
   "source": [
    "\n",
    "print(model.predict(tokenizer.texts_to_matrix([\"СИ\"])))\n",
    "print(model.predict(tokenizer.texts_to_matrix([\"Что делать, если статус отчетности не меняется длительное время?\"])))\n",
    "print(model.predict(tokenizer.texts_to_matrix([\"Какой действует порядок в случае изменения реквизитов внешнего пользователя (наименование, ИНН, ОГРН) либо для него не зарегистрирован ЛК?\"])))\n",
    "print(model.predict(tokenizer.texts_to_matrix([\"Какой действует порядок по увеличению квоты хранения истории обмена ЭС?\"])))\n",
    "print(model.predict(tokenizer.texts_to_matrix([\"Я получил отказ в регистрации документа. Каковы причины отказа?\"])))\n"
   ]
  },
  {
   "cell_type": "code",
   "execution_count": 20,
   "metadata": {},
   "outputs": [],
   "source": [
    "def isNotGood(str):\n",
    "    v = model.predict(tokenizer.texts_to_matrix([str]))\n",
    "    if v > 0.7:\n",
    "        print(\"Ругательства\")\n",
    "    if v <= 0.7 and v > 0.3:\n",
    "        print(\"Средне\")\n",
    "    if v <= 0.3:\n",
    "        print(\"Конструктивная речь\")\n"
   ]
  },
  {
   "cell_type": "code",
   "execution_count": 34,
   "metadata": {},
   "outputs": [
    {
     "name": "stdout",
     "output_type": "stream",
     "text": [
      "Ругательства\n"
     ]
    }
   ],
   "source": [
    "isNotGood(\"Си\")"
   ]
  },
  {
   "cell_type": "code",
   "execution_count": 2,
   "metadata": {},
   "outputs": [
    {
     "data": {
      "text/plain": [
       "22"
      ]
     },
     "execution_count": 2,
     "metadata": {},
     "output_type": "execute_result"
    }
   ],
   "source": [
    "gc.collect()"
   ]
  },
  {
   "cell_type": "code",
   "execution_count": null,
   "metadata": {},
   "outputs": [],
   "source": []
  }
 ],
 "metadata": {
  "kernelspec": {
   "display_name": "Python 3",
   "language": "python",
   "name": "python3"
  },
  "language_info": {
   "codemirror_mode": {
    "name": "ipython",
    "version": 3
   },
   "file_extension": ".py",
   "mimetype": "text/x-python",
   "name": "python",
   "nbconvert_exporter": "python",
   "pygments_lexer": "ipython3",
   "version": "3.6.4"
  }
 },
 "nbformat": 4,
 "nbformat_minor": 4
}
