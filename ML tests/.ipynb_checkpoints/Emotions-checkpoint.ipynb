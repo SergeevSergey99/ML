{
 "cells": [
  {
   "cell_type": "code",
   "execution_count": 47,
   "metadata": {},
   "outputs": [
    {
     "name": "stdout",
     "output_type": "stream",
     "text": [
      "['labeled.csv']\n"
     ]
    }
   ],
   "source": [
    "import os\n",
    "\n",
    "import numpy as np\n",
    "\n",
    "# For DataFrame object\n",
    "import pandas as pd\n",
    "\n",
    "# Neural Network\n",
    "from keras.models import Sequential\n",
    "from keras.layers import Dense, Dropout\n",
    "from keras.optimizers import RMSprop\n",
    "\n",
    "# Text Vectorizing\n",
    "from keras.preprocessing.text import Tokenizer\n",
    "\n",
    "# Train-test-split\n",
    "from sklearn.model_selection import train_test_split\n",
    "\n",
    "# History visualization\n",
    "%matplotlib inline\n",
    "import matplotlib.pyplot as plt\n",
    "\n",
    "# Normalize\n",
    "from sklearn.preprocessing import normalize\n",
    "        \n",
    "print(os.listdir(\"./input\"))\n"
   ]
  },
  {
   "cell_type": "code",
   "execution_count": 48,
   "metadata": {},
   "outputs": [
    {
     "name": "stdout",
     "output_type": "stream",
     "text": [
      "['labeled.csv']\n"
     ]
    }
   ],
   "source": [
    "print(os.listdir(\"./input\"))"
   ]
  },
  {
   "cell_type": "code",
   "execution_count": 49,
   "metadata": {},
   "outputs": [
    {
     "data": {
      "text/html": [
       "<div>\n",
       "<style scoped>\n",
       "    .dataframe tbody tr th:only-of-type {\n",
       "        vertical-align: middle;\n",
       "    }\n",
       "\n",
       "    .dataframe tbody tr th {\n",
       "        vertical-align: top;\n",
       "    }\n",
       "\n",
       "    .dataframe thead th {\n",
       "        text-align: right;\n",
       "    }\n",
       "</style>\n",
       "<table border=\"1\" class=\"dataframe\">\n",
       "  <thead>\n",
       "    <tr style=\"text-align: right;\">\n",
       "      <th></th>\n",
       "      <th>comment</th>\n",
       "      <th>toxic</th>\n",
       "    </tr>\n",
       "  </thead>\n",
       "  <tbody>\n",
       "    <tr>\n",
       "      <th>0</th>\n",
       "      <td>Верблюдов-то за что? Дебилы, бл...\\n</td>\n",
       "      <td>1.0</td>\n",
       "    </tr>\n",
       "    <tr>\n",
       "      <th>1</th>\n",
       "      <td>Хохлы, это отдушина затюканого россиянина, мол...</td>\n",
       "      <td>1.0</td>\n",
       "    </tr>\n",
       "    <tr>\n",
       "      <th>2</th>\n",
       "      <td>Собаке - собачья смерть\\n</td>\n",
       "      <td>1.0</td>\n",
       "    </tr>\n",
       "    <tr>\n",
       "      <th>3</th>\n",
       "      <td>Страницу обнови, дебил. Это тоже не оскорблени...</td>\n",
       "      <td>1.0</td>\n",
       "    </tr>\n",
       "    <tr>\n",
       "      <th>4</th>\n",
       "      <td>тебя не убедил 6-страничный пдф в том, что Скр...</td>\n",
       "      <td>1.0</td>\n",
       "    </tr>\n",
       "  </tbody>\n",
       "</table>\n",
       "</div>"
      ],
      "text/plain": [
       "                                             comment  toxic\n",
       "0               Верблюдов-то за что? Дебилы, бл...\\n    1.0\n",
       "1  Хохлы, это отдушина затюканого россиянина, мол...    1.0\n",
       "2                          Собаке - собачья смерть\\n    1.0\n",
       "3  Страницу обнови, дебил. Это тоже не оскорблени...    1.0\n",
       "4  тебя не убедил 6-страничный пдф в том, что Скр...    1.0"
      ]
     },
     "execution_count": 49,
     "metadata": {},
     "output_type": "execute_result"
    }
   ],
   "source": [
    "path = './input/labeled.csv'\n",
    "df = pd.read_csv(path)\n",
    "df.head()"
   ]
  },
  {
   "cell_type": "code",
   "execution_count": 50,
   "metadata": {},
   "outputs": [],
   "source": [
    "def delete_new_line_symbols(text):\n",
    "    text = text.replace('\\n', ' ')\n",
    "    return text"
   ]
  },
  {
   "cell_type": "code",
   "execution_count": 51,
   "metadata": {},
   "outputs": [
    {
     "data": {
      "text/html": [
       "<div>\n",
       "<style scoped>\n",
       "    .dataframe tbody tr th:only-of-type {\n",
       "        vertical-align: middle;\n",
       "    }\n",
       "\n",
       "    .dataframe tbody tr th {\n",
       "        vertical-align: top;\n",
       "    }\n",
       "\n",
       "    .dataframe thead th {\n",
       "        text-align: right;\n",
       "    }\n",
       "</style>\n",
       "<table border=\"1\" class=\"dataframe\">\n",
       "  <thead>\n",
       "    <tr style=\"text-align: right;\">\n",
       "      <th></th>\n",
       "      <th>comment</th>\n",
       "      <th>toxic</th>\n",
       "    </tr>\n",
       "  </thead>\n",
       "  <tbody>\n",
       "    <tr>\n",
       "      <th>0</th>\n",
       "      <td>Верблюдов-то за что? Дебилы, бл...</td>\n",
       "      <td>1.0</td>\n",
       "    </tr>\n",
       "    <tr>\n",
       "      <th>1</th>\n",
       "      <td>Хохлы, это отдушина затюканого россиянина, мол...</td>\n",
       "      <td>1.0</td>\n",
       "    </tr>\n",
       "    <tr>\n",
       "      <th>2</th>\n",
       "      <td>Собаке - собачья смерть</td>\n",
       "      <td>1.0</td>\n",
       "    </tr>\n",
       "    <tr>\n",
       "      <th>3</th>\n",
       "      <td>Страницу обнови, дебил. Это тоже не оскорблени...</td>\n",
       "      <td>1.0</td>\n",
       "    </tr>\n",
       "    <tr>\n",
       "      <th>4</th>\n",
       "      <td>тебя не убедил 6-страничный пдф в том, что Скр...</td>\n",
       "      <td>1.0</td>\n",
       "    </tr>\n",
       "  </tbody>\n",
       "</table>\n",
       "</div>"
      ],
      "text/plain": [
       "                                             comment  toxic\n",
       "0                Верблюдов-то за что? Дебилы, бл...     1.0\n",
       "1  Хохлы, это отдушина затюканого россиянина, мол...    1.0\n",
       "2                           Собаке - собачья смерть     1.0\n",
       "3  Страницу обнови, дебил. Это тоже не оскорблени...    1.0\n",
       "4  тебя не убедил 6-страничный пдф в том, что Скр...    1.0"
      ]
     },
     "execution_count": 51,
     "metadata": {},
     "output_type": "execute_result"
    }
   ],
   "source": [
    "df['comment'] = df['comment'].apply(delete_new_line_symbols)\n",
    "df.head()"
   ]
  },
  {
   "cell_type": "code",
   "execution_count": 52,
   "metadata": {},
   "outputs": [
    {
     "data": {
      "text/plain": [
       "array([1, 1, 1, 1, 1], dtype=uint8)"
      ]
     },
     "execution_count": 52,
     "metadata": {},
     "output_type": "execute_result"
    }
   ],
   "source": [
    "target = np.array(df['toxic'].astype('uint8'))\n",
    "target[:5]\n"
   ]
  },
  {
   "cell_type": "code",
   "execution_count": 53,
   "metadata": {},
   "outputs": [],
   "source": [
    "tokenizer = Tokenizer(num_words=20000, \n",
    "                      filters='!\"#$%&()*+,-./:;<=>?@[\\\\]^_`{|}~\\t\\n', \n",
    "                      lower=True, \n",
    "                      split=' ', \n",
    "                      char_level=False)"
   ]
  },
  {
   "cell_type": "code",
   "execution_count": 54,
   "metadata": {},
   "outputs": [
    {
     "data": {
      "text/plain": [
       "(14412, 20000)"
      ]
     },
     "execution_count": 54,
     "metadata": {},
     "output_type": "execute_result"
    }
   ],
   "source": [
    "tokenizer.fit_on_texts(df['comment'])\n",
    "matrix = tokenizer.texts_to_matrix(df['comment'], mode='count')\n",
    "matrix.shape\n"
   ]
  },
  {
   "cell_type": "code",
   "execution_count": 55,
   "metadata": {},
   "outputs": [],
   "source": [
    "def get_model():\n",
    "    \n",
    "    model = Sequential()\n",
    "    \n",
    "    model.add(Dense(32, activation='relu'))\n",
    "    model.add(Dropout(0.3))\n",
    "    model.add(Dense(16, activation='relu'))\n",
    "    model.add(Dropout(0.3))\n",
    "    model.add(Dense(16, activation='relu'))\n",
    "    model.add(Dense(1, activation='sigmoid'))\n",
    "    \n",
    "    model.compile(optimizer=RMSprop(lr=0.0001), \n",
    "                  loss='binary_crossentropy',\n",
    "                  metrics=['accuracy'])\n",
    "    \n",
    "    return model"
   ]
  },
  {
   "cell_type": "code",
   "execution_count": 56,
   "metadata": {},
   "outputs": [
    {
     "data": {
      "text/plain": [
       "((11529, 20000), (11529,))"
      ]
     },
     "execution_count": 56,
     "metadata": {},
     "output_type": "execute_result"
    }
   ],
   "source": [
    "matrix = normalize(matrix)\n",
    "y = target\n",
    "\n",
    "X_train, X_test, y_train, y_test = train_test_split(matrix, y, test_size=0.2)\n",
    "\n",
    "X_train.shape, y_train.shape"
   ]
  },
  {
   "cell_type": "code",
   "execution_count": 57,
   "metadata": {
    "scrolled": true
   },
   "outputs": [],
   "source": [
    "model = get_model()\n"
   ]
  },
  {
   "cell_type": "code",
   "execution_count": 58,
   "metadata": {},
   "outputs": [
    {
     "name": "stdout",
     "output_type": "stream",
     "text": [
      "Train on 11529 samples, validate on 2883 samples\n",
      "Epoch 1/75\n",
      "11529/11529 [==============================] - 44s 4ms/step - loss: 0.6901 - acc: 0.6479 - val_loss: 0.6871 - val_acc: 0.6629\n",
      "Epoch 2/75\n",
      "11529/11529 [==============================] - 5s 399us/step - loss: 0.6852 - acc: 0.6661 - val_loss: 0.6825 - val_acc: 0.6629\n",
      "Epoch 3/75\n",
      "11529/11529 [==============================] - 3s 258us/step - loss: 0.6808 - acc: 0.6656 - val_loss: 0.6778 - val_acc: 0.6629\n",
      "Epoch 4/75\n",
      "11529/11529 [==============================] - 3s 262us/step - loss: 0.6758 - acc: 0.6656 - val_loss: 0.6730 - val_acc: 0.6629\n",
      "Epoch 5/75\n",
      "11529/11529 [==============================] - 3s 246us/step - loss: 0.6711 - acc: 0.6657 - val_loss: 0.6681 - val_acc: 0.6629\n",
      "Epoch 6/75\n",
      "11529/11529 [==============================] - 3s 242us/step - loss: 0.6661 - acc: 0.6657 - val_loss: 0.6631 - val_acc: 0.6629\n",
      "Epoch 7/75\n",
      "11529/11529 [==============================] - 3s 247us/step - loss: 0.6609 - acc: 0.6657 - val_loss: 0.6579 - val_acc: 0.6629\n",
      "Epoch 8/75\n",
      "11529/11529 [==============================] - 3s 245us/step - loss: 0.6553 - acc: 0.6657 - val_loss: 0.6525 - val_acc: 0.6629\n",
      "Epoch 9/75\n",
      "11529/11529 [==============================] - 3s 264us/step - loss: 0.6493 - acc: 0.6657 - val_loss: 0.6473 - val_acc: 0.6629\n",
      "Epoch 10/75\n",
      "11529/11529 [==============================] - 3s 248us/step - loss: 0.6430 - acc: 0.6657 - val_loss: 0.6418 - val_acc: 0.6629\n",
      "Epoch 11/75\n",
      "11529/11529 [==============================] - 3s 254us/step - loss: 0.6384 - acc: 0.6657 - val_loss: 0.6362 - val_acc: 0.6629\n",
      "Epoch 12/75\n",
      "11529/11529 [==============================] - 3s 248us/step - loss: 0.6323 - acc: 0.6657 - val_loss: 0.6305 - val_acc: 0.6629\n",
      "Epoch 13/75\n",
      "11529/11529 [==============================] - 3s 254us/step - loss: 0.6260 - acc: 0.6660 - val_loss: 0.6249 - val_acc: 0.6629\n",
      "Epoch 14/75\n",
      "11529/11529 [==============================] - 3s 257us/step - loss: 0.6190 - acc: 0.6661 - val_loss: 0.6191 - val_acc: 0.6629\n",
      "Epoch 15/75\n",
      "11529/11529 [==============================] - 3s 251us/step - loss: 0.6134 - acc: 0.6674 - val_loss: 0.6134 - val_acc: 0.6642\n",
      "Epoch 16/75\n",
      "11529/11529 [==============================] - 3s 252us/step - loss: 0.6091 - acc: 0.6677 - val_loss: 0.6078 - val_acc: 0.6649\n",
      "Epoch 17/75\n",
      "11529/11529 [==============================] - 3s 248us/step - loss: 0.6006 - acc: 0.6699 - val_loss: 0.6020 - val_acc: 0.6660\n",
      "Epoch 18/75\n",
      "11529/11529 [==============================] - 3s 259us/step - loss: 0.5950 - acc: 0.6708 - val_loss: 0.5961 - val_acc: 0.6670\n",
      "Epoch 19/75\n",
      "11529/11529 [==============================] - 3s 255us/step - loss: 0.5892 - acc: 0.6728 - val_loss: 0.5904 - val_acc: 0.6691\n",
      "Epoch 20/75\n",
      "11529/11529 [==============================] - 3s 270us/step - loss: 0.5820 - acc: 0.6765 - val_loss: 0.5844 - val_acc: 0.6729\n",
      "Epoch 21/75\n",
      "11529/11529 [==============================] - 3s 255us/step - loss: 0.5763 - acc: 0.6813 - val_loss: 0.5783 - val_acc: 0.6746\n",
      "Epoch 22/75\n",
      "11529/11529 [==============================] - 3s 252us/step - loss: 0.5693 - acc: 0.6880 - val_loss: 0.5721 - val_acc: 0.6781\n",
      "Epoch 23/75\n",
      "11529/11529 [==============================] - 3s 260us/step - loss: 0.5628 - acc: 0.6940 - val_loss: 0.5654 - val_acc: 0.6854\n",
      "Epoch 24/75\n",
      "11529/11529 [==============================] - 3s 258us/step - loss: 0.5563 - acc: 0.7027 - val_loss: 0.5588 - val_acc: 0.6934\n",
      "Epoch 25/75\n",
      "11529/11529 [==============================] - 3s 283us/step - loss: 0.5473 - acc: 0.7152 - val_loss: 0.5521 - val_acc: 0.7072\n",
      "Epoch 26/75\n",
      "11529/11529 [==============================] - 3s 254us/step - loss: 0.5401 - acc: 0.7217 - val_loss: 0.5450 - val_acc: 0.7131\n",
      "Epoch 27/75\n",
      "11529/11529 [==============================] - 3s 242us/step - loss: 0.5333 - acc: 0.7360 - val_loss: 0.5382 - val_acc: 0.7215\n",
      "Epoch 28/75\n",
      "11529/11529 [==============================] - 3s 251us/step - loss: 0.5244 - acc: 0.7478 - val_loss: 0.5308 - val_acc: 0.7381\n",
      "Epoch 29/75\n",
      "11529/11529 [==============================] - 3s 251us/step - loss: 0.5175 - acc: 0.7642 - val_loss: 0.5241 - val_acc: 0.7444\n",
      "Epoch 30/75\n",
      "11529/11529 [==============================] - 3s 254us/step - loss: 0.5102 - acc: 0.7710 - val_loss: 0.5171 - val_acc: 0.7537\n",
      "Epoch 31/75\n",
      "11529/11529 [==============================] - 3s 259us/step - loss: 0.5016 - acc: 0.7798 - val_loss: 0.5099 - val_acc: 0.7624\n",
      "Epoch 32/75\n",
      "11529/11529 [==============================] - 3s 244us/step - loss: 0.4935 - acc: 0.7920 - val_loss: 0.5025 - val_acc: 0.7728\n",
      "Epoch 33/75\n",
      "11529/11529 [==============================] - 3s 251us/step - loss: 0.4865 - acc: 0.8009 - val_loss: 0.4953 - val_acc: 0.7811\n",
      "Epoch 34/75\n",
      "11529/11529 [==============================] - 3s 252us/step - loss: 0.4754 - acc: 0.8132 - val_loss: 0.4883 - val_acc: 0.7867\n",
      "Epoch 35/75\n",
      "11529/11529 [==============================] - 3s 254us/step - loss: 0.4688 - acc: 0.8185 - val_loss: 0.4813 - val_acc: 0.7884\n",
      "Epoch 36/75\n",
      "11529/11529 [==============================] - 3s 264us/step - loss: 0.4643 - acc: 0.8211 - val_loss: 0.4742 - val_acc: 0.7992\n",
      "Epoch 37/75\n",
      "11529/11529 [==============================] - 3s 245us/step - loss: 0.4526 - acc: 0.8303 - val_loss: 0.4670 - val_acc: 0.8075\n",
      "Epoch 38/75\n",
      "11529/11529 [==============================] - 3s 246us/step - loss: 0.4427 - acc: 0.8399 - val_loss: 0.4606 - val_acc: 0.8075\n",
      "Epoch 39/75\n",
      "11529/11529 [==============================] - 3s 247us/step - loss: 0.4363 - acc: 0.8452 - val_loss: 0.4535 - val_acc: 0.8120\n",
      "Epoch 40/75\n",
      "11529/11529 [==============================] - 3s 259us/step - loss: 0.4250 - acc: 0.8501 - val_loss: 0.4466 - val_acc: 0.8162\n",
      "Epoch 41/75\n",
      "11529/11529 [==============================] - 3s 259us/step - loss: 0.4203 - acc: 0.8513 - val_loss: 0.4399 - val_acc: 0.8210\n",
      "Epoch 42/75\n",
      "11529/11529 [==============================] - 3s 256us/step - loss: 0.4122 - acc: 0.8589 - val_loss: 0.4335 - val_acc: 0.8217\n",
      "Epoch 43/75\n",
      "11529/11529 [==============================] - 3s 251us/step - loss: 0.4036 - acc: 0.8632 - val_loss: 0.4271 - val_acc: 0.8283\n",
      "Epoch 44/75\n",
      "11529/11529 [==============================] - 3s 258us/step - loss: 0.3949 - acc: 0.8668 - val_loss: 0.4213 - val_acc: 0.8283\n",
      "Epoch 45/75\n",
      "11529/11529 [==============================] - 3s 259us/step - loss: 0.3886 - acc: 0.8686 - val_loss: 0.4147 - val_acc: 0.8332\n",
      "Epoch 46/75\n",
      "11529/11529 [==============================] - 3s 254us/step - loss: 0.3780 - acc: 0.8787 - val_loss: 0.4091 - val_acc: 0.8345\n",
      "Epoch 47/75\n",
      "11529/11529 [==============================] - 3s 258us/step - loss: 0.3720 - acc: 0.8774 - val_loss: 0.4034 - val_acc: 0.8391\n",
      "Epoch 48/75\n",
      "11529/11529 [==============================] - 3s 253us/step - loss: 0.3633 - acc: 0.8835 - val_loss: 0.3982 - val_acc: 0.8401\n",
      "Epoch 49/75\n",
      "11529/11529 [==============================] - 3s 250us/step - loss: 0.3573 - acc: 0.8859 - val_loss: 0.3926 - val_acc: 0.8450\n",
      "Epoch 50/75\n",
      "11529/11529 [==============================] - 3s 247us/step - loss: 0.3515 - acc: 0.8856 - val_loss: 0.3877 - val_acc: 0.8453\n",
      "Epoch 51/75\n",
      "11529/11529 [==============================] - 3s 249us/step - loss: 0.3424 - acc: 0.8896 - val_loss: 0.3827 - val_acc: 0.8467\n",
      "Epoch 52/75\n",
      "11529/11529 [==============================] - 3s 250us/step - loss: 0.3353 - acc: 0.8929 - val_loss: 0.3774 - val_acc: 0.8533\n",
      "Epoch 53/75\n",
      "11529/11529 [==============================] - 3s 260us/step - loss: 0.3283 - acc: 0.8947 - val_loss: 0.3731 - val_acc: 0.8543\n",
      "Epoch 54/75\n",
      "11529/11529 [==============================] - 3s 244us/step - loss: 0.3214 - acc: 0.8964 - val_loss: 0.3690 - val_acc: 0.8554\n",
      "Epoch 55/75\n",
      "11529/11529 [==============================] - 3s 253us/step - loss: 0.3185 - acc: 0.8971 - val_loss: 0.3652 - val_acc: 0.8561\n",
      "Epoch 56/75\n",
      "11529/11529 [==============================] - 3s 259us/step - loss: 0.3098 - acc: 0.9016 - val_loss: 0.3616 - val_acc: 0.8561\n",
      "Epoch 57/75\n",
      "11529/11529 [==============================] - 3s 259us/step - loss: 0.3051 - acc: 0.9006 - val_loss: 0.3568 - val_acc: 0.8574\n",
      "Epoch 58/75\n",
      "11529/11529 [==============================] - 3s 267us/step - loss: 0.2932 - acc: 0.9060 - val_loss: 0.3520 - val_acc: 0.8616\n",
      "Epoch 59/75\n",
      "11529/11529 [==============================] - 3s 250us/step - loss: 0.2887 - acc: 0.9088 - val_loss: 0.3499 - val_acc: 0.8592\n",
      "Epoch 60/75\n",
      "11529/11529 [==============================] - 3s 246us/step - loss: 0.2834 - acc: 0.9078 - val_loss: 0.3469 - val_acc: 0.8592\n",
      "Epoch 61/75\n",
      "11529/11529 [==============================] - 3s 259us/step - loss: 0.2793 - acc: 0.9114 - val_loss: 0.3432 - val_acc: 0.8623\n",
      "Epoch 62/75\n",
      "11529/11529 [==============================] - 3s 261us/step - loss: 0.2709 - acc: 0.9127 - val_loss: 0.3396 - val_acc: 0.8644\n",
      "Epoch 63/75\n",
      "11529/11529 [==============================] - 3s 269us/step - loss: 0.2655 - acc: 0.9147 - val_loss: 0.3370 - val_acc: 0.8654\n",
      "Epoch 64/75\n",
      "11529/11529 [==============================] - 3s 258us/step - loss: 0.2590 - acc: 0.9152 - val_loss: 0.3346 - val_acc: 0.8672\n",
      "Epoch 65/75\n",
      "11529/11529 [==============================] - 3s 248us/step - loss: 0.2570 - acc: 0.9160 - val_loss: 0.3319 - val_acc: 0.8678\n",
      "Epoch 66/75\n",
      "11529/11529 [==============================] - 3s 246us/step - loss: 0.2515 - acc: 0.9188 - val_loss: 0.3310 - val_acc: 0.8665\n",
      "Epoch 67/75\n",
      "11529/11529 [==============================] - 3s 254us/step - loss: 0.2465 - acc: 0.9194 - val_loss: 0.3279 - val_acc: 0.8685\n",
      "Epoch 68/75\n",
      "11529/11529 [==============================] - 3s 257us/step - loss: 0.2411 - acc: 0.9229 - val_loss: 0.3264 - val_acc: 0.8699\n",
      "Epoch 69/75\n",
      "11529/11529 [==============================] - 3s 262us/step - loss: 0.2341 - acc: 0.9240 - val_loss: 0.3242 - val_acc: 0.8727\n",
      "Epoch 70/75\n",
      "11529/11529 [==============================] - 3s 247us/step - loss: 0.2316 - acc: 0.9230 - val_loss: 0.3233 - val_acc: 0.8724\n",
      "Epoch 71/75\n",
      "11529/11529 [==============================] - 3s 247us/step - loss: 0.2240 - acc: 0.9276 - val_loss: 0.3218 - val_acc: 0.8748\n",
      "Epoch 72/75\n",
      "11529/11529 [==============================] - 3s 253us/step - loss: 0.2196 - acc: 0.9287 - val_loss: 0.3213 - val_acc: 0.8755\n",
      "Epoch 73/75\n",
      "11529/11529 [==============================] - 3s 264us/step - loss: 0.2183 - acc: 0.9298 - val_loss: 0.3222 - val_acc: 0.8730\n",
      "Epoch 74/75\n",
      "11529/11529 [==============================] - 3s 288us/step - loss: 0.2153 - acc: 0.9287 - val_loss: 0.3209 - val_acc: 0.8748\n",
      "Epoch 75/75\n",
      "11529/11529 [==============================] - 3s 244us/step - loss: 0.2082 - acc: 0.9337 - val_loss: 0.3209 - val_acc: 0.8741\n"
     ]
    }
   ],
   "source": [
    "\n",
    "history = model.fit(X_train, y_train, epochs=75, batch_size=500, validation_data=(X_test, y_test))"
   ]
  },
  {
   "cell_type": "code",
   "execution_count": 60,
   "metadata": {},
   "outputs": [
    {
     "data": {
      "image/png": "[encoded data removed]",
      "text/plain": [
       "<matplotlib.figure.Figure at 0x1dee55b6908>"
      ]
     },
     "metadata": {},
     "output_type": "display_data"
    }
   ],
   "source": [
    "#history = history.history\n",
    "\n",
    "fig = plt.figure(figsize=(20, 10))\n",
    "\n",
    "ax1 = fig.add_subplot(221)\n",
    "ax2 = fig.add_subplot(223)\n",
    "\n",
    "x = list(range(75))\n",
    "#ax1.set_xticklabels(x)\n",
    "ax1.plot(x, history['acc'], 'b-', label='Accuracy')\n",
    "ax1.plot(x, history['val_acc'], 'r-', label='Validation accuracy')\n",
    "\n",
    "ax1.legend(loc='lower right')\n",
    "#ax2.set_xticklabels(x)\n",
    "ax2.plot(x, history['loss'], 'b-', label='Losses')\n",
    "ax2.plot(x, history['val_loss'], 'r-', label='Validation losses')\n",
    "\n",
    "ax2.legend(loc='upper right')\n",
    "plt.show()"
   ]
  },
  {
   "cell_type": "code",
   "execution_count": 61,
   "metadata": {},
   "outputs": [
    {
     "name": "stdout",
     "output_type": "stream",
     "text": [
      "2883/2883 [==============================] - 1s 309us/step\n",
      "Test score:  0.3209072302986858\n",
      "Test accuracy:  0.8740894901144641\n"
     ]
    }
   ],
   "source": [
    "score = model.evaluate(X_test, y_test)\n",
    "print(\"Test score: \", score[0])\n",
    "print(\"Test accuracy: \", score[1])"
   ]
  },
  {
   "cell_type": "code",
   "execution_count": 81,
   "metadata": {},
   "outputs": [
    {
     "name": "stdout",
     "output_type": "stream",
     "text": [
      "[[0.07633861]]\n",
      "[[0.00326374]]\n",
      "[[0.00036768]]\n",
      "[[0.47419697]]\n",
      "[[0.06173868]]\n"
     ]
    }
   ],
   "source": [
    "\n",
    "print(model.predict(tokenizer.texts_to_matrix([\"Здравствуйте\"])))\n",
    "print(model.predict(tokenizer.texts_to_matrix([\"Что делать, если статус отчетности не меняется длительное время?\"])))\n",
    "print(model.predict(tokenizer.texts_to_matrix([\"Какой действует порядок в случае изменения реквизитов внешнего пользователя (наименование, ИНН, ОГРН) либо для него не зарегистрирован ЛК?\"])))\n",
    "print(model.predict(tokenizer.texts_to_matrix([\"Какой действует порядок по увеличению квоты хранения истории обмена ЭС?\"])))\n",
    "print(model.predict(tokenizer.texts_to_matrix([\"Я получил отказ в регистрации документа. Каковы причины отказа?\"])))\n"
   ]
  },
  {
   "cell_type": "code",
   "execution_count": 63,
   "metadata": {},
   "outputs": [],
   "source": [
    "def isNotGood(str):\n",
    "    v = model.predict(tokenizer.texts_to_matrix([str]))\n",
    "    if v > 0.7:\n",
    "        print(\"Ругательства\")\n",
    "    if v <= 0.7 and v > 0.3:\n",
    "        print(\"Средне\")\n",
    "    if v <= 0.3:\n",
    "        print(\"Конструктивная речь\")\n"
   ]
  },
  {
   "cell_type": "code",
   "execution_count": 64,
   "metadata": {},
   "outputs": [
    {
     "name": "stdout",
     "output_type": "stream",
     "text": [
      "Конструктивная речь\n"
     ]
    }
   ],
   "source": [
    "isNotGood(\"Я получил отказ в регистрации документа. Каковы причины отказа?\")"
   ]
  },
  {
   "cell_type": "code",
   "execution_count": 46,
   "metadata": {},
   "outputs": [
    {
     "data": {
      "text/plain": [
       "0"
      ]
     },
     "execution_count": 46,
     "metadata": {},
     "output_type": "execute_result"
    }
   ],
   "source": [
    "import gc\n",
    "gc.collect()"
   ]
  },
  {
   "cell_type": "code",
   "execution_count": 86,
   "metadata": {},
   "outputs": [],
   "source": [
    "import pickle\n",
    "\n",
    "# saving\n",
    "with open('tokenizer.pickle', 'wb') as handle:\n",
    "    pickle.dump(tokenizer, handle, protocol=pickle.HIGHEST_PROTOCOL)\n",
    "    \n",
    "model.save('./toxic_model75-20.h5')"
   ]
  },
  {
   "cell_type": "code",
   "execution_count": 69,
   "metadata": {},
   "outputs": [],
   "source": [
    "model.save_weights('toxic_model75-20_weights.hdf5')"
   ]
  }
 ],
 "metadata": {
  "kernelspec": {
   "display_name": "Python 3",
   "language": "python",
   "name": "python3"
  },
  "language_info": {
   "codemirror_mode": {
    "name": "ipython",
    "version": 3
   },
   "file_extension": ".py",
   "mimetype": "text/x-python",
   "name": "python",
   "nbconvert_exporter": "python",
   "pygments_lexer": "ipython3",
   "version": "3.6.4"
  }
 },
 "nbformat": 4,
 "nbformat_minor": 4
}
