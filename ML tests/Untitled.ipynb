{
 "cells": [
  {
   "cell_type": "code",
   "execution_count": 46,
   "metadata": {},
   "outputs": [],
   "source": [
    "import os\n",
    "import numpy as np\n",
    "# Neural Network\n",
    "from keras.models import load_model\n",
    "# Text Vectorizing\n",
    "from keras.preprocessing.text import Tokenizer\n",
    "import pickle\n",
    "# loading\n",
    "\n",
    "model = load_model('toxic_model75-20.h5')\n",
    "with open('tokenizer75-20.pickle', 'rb') as handle:\n",
    "    tokenizer = pickle.load(handle)\n",
    "\n",
    "def isNotGood(str):\n",
    "    v = model.predict(tokenizer.texts_to_matrix([str]))\n",
    "    return v"
   ]
  },
  {
   "cell_type": "code",
   "execution_count": 47,
   "metadata": {},
   "outputs": [
    {
     "name": "stdout",
     "output_type": "stream",
     "text": [
      "[[0.00036768]]\n"
     ]
    }
   ],
   "source": [
    "   \n",
    "print(isNotGood(\"Какой действует порядок в случае изменения реквизитов внешнего пользователя (наименование, ИНН, ОГРН) либо для него не зарегистрирован ЛК?\"))"
   ]
  },
  {
   "cell_type": "code",
   "execution_count": 37,
   "metadata": {},
   "outputs": [
    {
     "name": "stdout",
     "output_type": "stream",
     "text": [
      "[[0.67259604]]\n",
      "[[0.00326374]]\n",
      "[[0.00036768]]\n",
      "[[0.47419697]]\n"
     ]
    }
   ],
   "source": [
    "\n",
    "print(model.predict(tokenizer.texts_to_matrix([\"СИ\"])))\n",
    "print(model.predict(tokenizer.texts_to_matrix([\"Что делать, если статус отчетности не меняется длительное время?\"])))\n",
    "print(model.predict(tokenizer.texts_to_matrix([\"Какой действует порядок в случае изменения реквизитов внешнего пользователя (наименование, ИНН, ОГРН) либо для него не зарегистрирован ЛК?\"])))\n",
    "print(model.predict(tokenizer.texts_to_matrix([\"Какой действует порядок по увеличению квоты хранения истории обмена ЭС?\"])))\n"
   ]
  },
  {
   "cell_type": "code",
   "execution_count": null,
   "metadata": {},
   "outputs": [],
   "source": []
  }
 ],
 "metadata": {
  "kernelspec": {
   "display_name": "Python 3",
   "language": "python",
   "name": "python3"
  },
  "language_info": {
   "codemirror_mode": {
    "name": "ipython",
    "version": 3
   },
   "file_extension": ".py",
   "mimetype": "text/x-python",
   "name": "python",
   "nbconvert_exporter": "python",
   "pygments_lexer": "ipython3",
   "version": "3.6.4"
  }
 },
 "nbformat": 4,
 "nbformat_minor": 4
}
