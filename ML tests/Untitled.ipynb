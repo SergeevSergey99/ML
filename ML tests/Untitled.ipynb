{
 "cells": [
  {
   "cell_type": "code",
   "execution_count": 4,
   "metadata": {},
   "outputs": [],
   "source": [
    "import os\n",
    "\n",
    "import numpy as np\n",
    "\n",
    "# Neural Network\n",
    "from keras.models import load_model\n",
    "# Text Vectorizing\n",
    "from keras.preprocessing.text import Tokenizer\n",
    "\n",
    "\n",
    "model = load_model('model.h5')\n",
    "\n",
    "tokenizer = Tokenizer(num_words=10000, \n",
    "                      filters='!\"#$%&()*+,-./:;<=>?@[\\\\]^_`{|}~\\t\\n', \n",
    "                      lower=True, \n",
    "                      split=' ', \n",
    "                      char_level=False)\n",
    "\n",
    "def isNotGood(str):\n",
    "    v = model.predict(tokenizer.texts_to_matrix([str]))\n",
    "    if v > 0.7:\n",
    "        print(\"Ругательства\")\n",
    "    if v <= 0.7 and v > 0.3:\n",
    "        print(\"Средне\")\n",
    "    if v <= 0.3:\n",
    "        print(\"Конструктивная речь\")\n",
    "        \n",
    "isNotGood(\"JavaScript\")"
   ]
  }
 ],
 "metadata": {
  "kernelspec": {
   "display_name": "Python 3",
   "language": "python",
   "name": "python3"
  },
  "language_info": {
   "codemirror_mode": {
    "name": "ipython",
    "version": 3
   },
   "file_extension": ".py",
   "mimetype": "text/x-python",
   "name": "python",
   "nbconvert_exporter": "python",
   "pygments_lexer": "ipython3",
   "version": "3.6.4"
  }
 },
 "nbformat": 4,
 "nbformat_minor": 4
}
